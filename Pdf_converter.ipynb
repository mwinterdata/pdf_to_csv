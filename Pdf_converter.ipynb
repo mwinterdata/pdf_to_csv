{
 "cells": [
  {
   "cell_type": "code",
   "execution_count": 1,
   "id": "7c3fae3e",
   "metadata": {},
   "outputs": [],
   "source": [
    "#do this once\n",
    "#pip install tabula"
   ]
  },
  {
   "cell_type": "code",
   "execution_count": 11,
   "id": "002bb11b",
   "metadata": {},
   "outputs": [],
   "source": [
    "import tabula as tb"
   ]
  },
  {
   "cell_type": "code",
   "execution_count": 12,
   "id": "c3f83041",
   "metadata": {},
   "outputs": [],
   "source": [
    "pdf = 'C:/Users/winte/Downloads/methanex_Q4_2022.pdf'\n",
    "csv = 'C:/Users/winte/Downloads/full_report_demo.csv'"
   ]
  },
  {
   "cell_type": "code",
   "execution_count": 13,
   "id": "767959b4",
   "metadata": {},
   "outputs": [
    {
     "name": "stderr",
     "output_type": "stream",
     "text": [
      "Got stderr: May 25, 2023 2:21:23 PM org.apache.pdfbox.pdmodel.font.PDFont loadUnicodeCmap\r\n",
      "WARNING: Invalid ToUnicode CMap in font AAAAAB+Calibri\r\n",
      "May 25, 2023 2:21:23 PM org.apache.pdfbox.pdmodel.font.PDFont loadUnicodeCmap\r\n",
      "WARNING: Using predefined identity CMap instead\r\n",
      "May 25, 2023 2:21:23 PM org.apache.pdfbox.pdmodel.font.PDFont loadUnicodeCmap\r\n",
      "WARNING: Invalid ToUnicode CMap in font AAAAAB+Calibri\r\n",
      "May 25, 2023 2:21:23 PM org.apache.pdfbox.pdmodel.font.PDFont loadUnicodeCmap\r\n",
      "WARNING: Using predefined identity CMap instead\r\n",
      "May 25, 2023 2:21:24 PM org.apache.pdfbox.pdmodel.font.PDFont loadUnicodeCmap\r\n",
      "WARNING: Invalid ToUnicode CMap in font AAAAAB+Calibri\r\n",
      "May 25, 2023 2:21:24 PM org.apache.pdfbox.pdmodel.font.PDFont loadUnicodeCmap\r\n",
      "WARNING: Using predefined identity CMap instead\r\n",
      "\n"
     ]
    }
   ],
   "source": [
    "tb.convert_into(input_path = pdf, output_path = csv, output_format=\"csv\", pages=\"all\", stream =True)"
   ]
  },
  {
   "cell_type": "code",
   "execution_count": null,
   "id": "a913cfb0",
   "metadata": {},
   "outputs": [],
   "source": []
  }
 ],
 "metadata": {
  "kernelspec": {
   "display_name": "Python 3 (ipykernel)",
   "language": "python",
   "name": "python3"
  },
  "language_info": {
   "codemirror_mode": {
    "name": "ipython",
    "version": 3
   },
   "file_extension": ".py",
   "mimetype": "text/x-python",
   "name": "python",
   "nbconvert_exporter": "python",
   "pygments_lexer": "ipython3",
   "version": "3.9.13"
  }
 },
 "nbformat": 4,
 "nbformat_minor": 5
}
