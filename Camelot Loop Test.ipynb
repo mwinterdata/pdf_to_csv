{
 "cells": [
  {
   "cell_type": "code",
   "execution_count": null,
   "id": "1019c0dc",
   "metadata": {},
   "outputs": [],
   "source": [
    "import camelot\n",
    "import pandas as pd\n",
    "import numpy as np\n",
    "import string"
   ]
  },
  {
   "cell_type": "code",
   "execution_count": null,
   "id": "fa2e9f16",
   "metadata": {},
   "outputs": [],
   "source": [
    "#pages = range (0,100)"
   ]
  },
  {
   "cell_type": "code",
   "execution_count": null,
   "id": "e90d9cae",
   "metadata": {},
   "outputs": [],
   "source": [
    "#page = '1'"
   ]
  },
  {
   "cell_type": "code",
   "execution_count": null,
   "id": "8997242d",
   "metadata": {},
   "outputs": [],
   "source": []
  },
  {
   "cell_type": "code",
   "execution_count": 60,
   "id": "2ae63472",
   "metadata": {},
   "outputs": [],
   "source": [
    "csv = 'C:/Users/winte/Downloads/axos_2022_q4_camelot5.csv'"
   ]
  },
  {
   "cell_type": "code",
   "execution_count": null,
   "id": "c3a3ca5e",
   "metadata": {},
   "outputs": [],
   "source": [
    "num_columns = 20\n",
    "columns = list(string.ascii_uppercase)[:num_columns] \n",
    "\n",
    "df = pd.DataFrame(columns=columns)"
   ]
  },
  {
   "cell_type": "code",
   "execution_count": 61,
   "id": "dfc27d79",
   "metadata": {},
   "outputs": [],
   "source": [
    "tables = camelot.read_pdf(r\"C:\\Users\\winte\\Downloads\\2022 10q4.pdf\", flavor='stream', pages='3')\n"
   ]
  },
  {
   "cell_type": "code",
   "execution_count": null,
   "id": "1868af28",
   "metadata": {},
   "outputs": [],
   "source": [
    "table = tables[1].df\n",
    "df "
   ]
  },
  {
   "cell_type": "code",
   "execution_count": 59,
   "id": "b6d26305",
   "metadata": {
    "scrolled": false
   },
   "outputs": [
    {
     "name": "stdout",
     "output_type": "stream",
     "text": [
      "Page number: 1  Number of tables: 1\n"
     ]
    },
    {
     "name": "stderr",
     "output_type": "stream",
     "text": [
      "C:\\Users\\winte\\AppData\\Local\\Temp\\ipykernel_24888\\4104891129.py:15: FutureWarning: The default dtype for empty Series will be 'object' instead of 'float64' in a future version. Specify a dtype explicitly to silence this warning.\n",
      "  df = df.append(pd.Series(), ignore_index = True)\n",
      "C:\\Users\\winte\\AppData\\Local\\Temp\\ipykernel_24888\\4104891129.py:15: FutureWarning: The frame.append method is deprecated and will be removed from pandas in a future version. Use pandas.concat instead.\n",
      "  df = df.append(pd.Series(), ignore_index = True)\n"
     ]
    },
    {
     "ename": "PermissionError",
     "evalue": "[Errno 13] Permission denied: 'C:/Users/winte/Downloads/axos_2022_q4_camelot4.csv'",
     "output_type": "error",
     "traceback": [
      "\u001b[1;31m---------------------------------------------------------------------------\u001b[0m",
      "\u001b[1;31mPermissionError\u001b[0m                           Traceback (most recent call last)",
      "\u001b[1;32m~\\AppData\\Local\\Temp\\ipykernel_24888\\4104891129.py\u001b[0m in \u001b[0;36m<module>\u001b[1;34m\u001b[0m\n\u001b[0;32m     14\u001b[0m \u001b[1;31m#         df.replace('â€” %', 0, inplace = True)\u001b[0m\u001b[1;33m\u001b[0m\u001b[1;33m\u001b[0m\u001b[0m\n\u001b[0;32m     15\u001b[0m         \u001b[0mdf\u001b[0m \u001b[1;33m=\u001b[0m \u001b[0mdf\u001b[0m\u001b[1;33m.\u001b[0m\u001b[0mappend\u001b[0m\u001b[1;33m(\u001b[0m\u001b[0mpd\u001b[0m\u001b[1;33m.\u001b[0m\u001b[0mSeries\u001b[0m\u001b[1;33m(\u001b[0m\u001b[1;33m)\u001b[0m\u001b[1;33m,\u001b[0m \u001b[0mignore_index\u001b[0m \u001b[1;33m=\u001b[0m \u001b[1;32mTrue\u001b[0m\u001b[1;33m)\u001b[0m\u001b[1;33m\u001b[0m\u001b[1;33m\u001b[0m\u001b[0m\n\u001b[1;32m---> 16\u001b[1;33m         \u001b[0mdf\u001b[0m\u001b[1;33m.\u001b[0m\u001b[0mto_csv\u001b[0m\u001b[1;33m(\u001b[0m\u001b[0mcsv\u001b[0m\u001b[1;33m,\u001b[0m \u001b[0mmode\u001b[0m\u001b[1;33m=\u001b[0m\u001b[1;34m'a'\u001b[0m\u001b[1;33m,\u001b[0m \u001b[0mindex\u001b[0m\u001b[1;33m=\u001b[0m\u001b[1;32mFalse\u001b[0m\u001b[1;33m,\u001b[0m \u001b[0mheader\u001b[0m\u001b[1;33m=\u001b[0m\u001b[1;32mFalse\u001b[0m\u001b[1;33m)\u001b[0m\u001b[1;33m\u001b[0m\u001b[1;33m\u001b[0m\u001b[0m\n\u001b[0m\u001b[0;32m     17\u001b[0m \u001b[1;33m\u001b[0m\u001b[0m\n",
      "\u001b[1;32m~\\anaconda3\\lib\\site-packages\\pandas\\core\\generic.py\u001b[0m in \u001b[0;36mto_csv\u001b[1;34m(self, path_or_buf, sep, na_rep, float_format, columns, header, index, index_label, mode, encoding, compression, quoting, quotechar, line_terminator, chunksize, date_format, doublequote, escapechar, decimal, errors, storage_options)\u001b[0m\n\u001b[0;32m   3549\u001b[0m         )\n\u001b[0;32m   3550\u001b[0m \u001b[1;33m\u001b[0m\u001b[0m\n\u001b[1;32m-> 3551\u001b[1;33m         return DataFrameRenderer(formatter).to_csv(\n\u001b[0m\u001b[0;32m   3552\u001b[0m             \u001b[0mpath_or_buf\u001b[0m\u001b[1;33m,\u001b[0m\u001b[1;33m\u001b[0m\u001b[1;33m\u001b[0m\u001b[0m\n\u001b[0;32m   3553\u001b[0m             \u001b[0mline_terminator\u001b[0m\u001b[1;33m=\u001b[0m\u001b[0mline_terminator\u001b[0m\u001b[1;33m,\u001b[0m\u001b[1;33m\u001b[0m\u001b[1;33m\u001b[0m\u001b[0m\n",
      "\u001b[1;32m~\\anaconda3\\lib\\site-packages\\pandas\\io\\formats\\format.py\u001b[0m in \u001b[0;36mto_csv\u001b[1;34m(self, path_or_buf, encoding, sep, columns, index_label, mode, compression, quoting, quotechar, line_terminator, chunksize, date_format, doublequote, escapechar, errors, storage_options)\u001b[0m\n\u001b[0;32m   1178\u001b[0m             \u001b[0mformatter\u001b[0m\u001b[1;33m=\u001b[0m\u001b[0mself\u001b[0m\u001b[1;33m.\u001b[0m\u001b[0mfmt\u001b[0m\u001b[1;33m,\u001b[0m\u001b[1;33m\u001b[0m\u001b[1;33m\u001b[0m\u001b[0m\n\u001b[0;32m   1179\u001b[0m         )\n\u001b[1;32m-> 1180\u001b[1;33m         \u001b[0mcsv_formatter\u001b[0m\u001b[1;33m.\u001b[0m\u001b[0msave\u001b[0m\u001b[1;33m(\u001b[0m\u001b[1;33m)\u001b[0m\u001b[1;33m\u001b[0m\u001b[1;33m\u001b[0m\u001b[0m\n\u001b[0m\u001b[0;32m   1181\u001b[0m \u001b[1;33m\u001b[0m\u001b[0m\n\u001b[0;32m   1182\u001b[0m         \u001b[1;32mif\u001b[0m \u001b[0mcreated_buffer\u001b[0m\u001b[1;33m:\u001b[0m\u001b[1;33m\u001b[0m\u001b[1;33m\u001b[0m\u001b[0m\n",
      "\u001b[1;32m~\\anaconda3\\lib\\site-packages\\pandas\\io\\formats\\csvs.py\u001b[0m in \u001b[0;36msave\u001b[1;34m(self)\u001b[0m\n\u001b[0;32m    239\u001b[0m         \"\"\"\n\u001b[0;32m    240\u001b[0m         \u001b[1;31m# apply compression and byte/text conversion\u001b[0m\u001b[1;33m\u001b[0m\u001b[1;33m\u001b[0m\u001b[0m\n\u001b[1;32m--> 241\u001b[1;33m         with get_handle(\n\u001b[0m\u001b[0;32m    242\u001b[0m             \u001b[0mself\u001b[0m\u001b[1;33m.\u001b[0m\u001b[0mfilepath_or_buffer\u001b[0m\u001b[1;33m,\u001b[0m\u001b[1;33m\u001b[0m\u001b[1;33m\u001b[0m\u001b[0m\n\u001b[0;32m    243\u001b[0m             \u001b[0mself\u001b[0m\u001b[1;33m.\u001b[0m\u001b[0mmode\u001b[0m\u001b[1;33m,\u001b[0m\u001b[1;33m\u001b[0m\u001b[1;33m\u001b[0m\u001b[0m\n",
      "\u001b[1;32m~\\anaconda3\\lib\\site-packages\\pandas\\io\\common.py\u001b[0m in \u001b[0;36mget_handle\u001b[1;34m(path_or_buf, mode, encoding, compression, memory_map, is_text, errors, storage_options)\u001b[0m\n\u001b[0;32m    784\u001b[0m         \u001b[1;32mif\u001b[0m \u001b[0mioargs\u001b[0m\u001b[1;33m.\u001b[0m\u001b[0mencoding\u001b[0m \u001b[1;32mand\u001b[0m \u001b[1;34m\"b\"\u001b[0m \u001b[1;32mnot\u001b[0m \u001b[1;32min\u001b[0m \u001b[0mioargs\u001b[0m\u001b[1;33m.\u001b[0m\u001b[0mmode\u001b[0m\u001b[1;33m:\u001b[0m\u001b[1;33m\u001b[0m\u001b[1;33m\u001b[0m\u001b[0m\n\u001b[0;32m    785\u001b[0m             \u001b[1;31m# Encoding\u001b[0m\u001b[1;33m\u001b[0m\u001b[1;33m\u001b[0m\u001b[0m\n\u001b[1;32m--> 786\u001b[1;33m             handle = open(\n\u001b[0m\u001b[0;32m    787\u001b[0m                 \u001b[0mhandle\u001b[0m\u001b[1;33m,\u001b[0m\u001b[1;33m\u001b[0m\u001b[1;33m\u001b[0m\u001b[0m\n\u001b[0;32m    788\u001b[0m                 \u001b[0mioargs\u001b[0m\u001b[1;33m.\u001b[0m\u001b[0mmode\u001b[0m\u001b[1;33m,\u001b[0m\u001b[1;33m\u001b[0m\u001b[1;33m\u001b[0m\u001b[0m\n",
      "\u001b[1;31mPermissionError\u001b[0m: [Errno 13] Permission denied: 'C:/Users/winte/Downloads/axos_2022_q4_camelot4.csv'"
     ]
    }
   ],
   "source": [
    "for i in range(1, 4):\n",
    "    page = str(i)\n",
    "    tables = camelot.read_pdf(r\"C:\\Users\\winte\\Downloads\\2022 10q4.pdf\", flavor='stream', pages=page)\n",
    "    no_tables = tables.n\n",
    "    print('Page number:', i, ' Number of tables:', no_tables)\n",
    "    for i in range(1, no_tables + 1):\n",
    "        df = tables[i-1].df\n",
    "#         if len(df.columns) > 2:\n",
    "#             df = df[~(df[0].astype(str).str.len().gt(30) | df[1].astype(str).str.len().gt(30)| df[2].astype(str).str.len().gt(30))]\n",
    "#         if len(df.columns) > 1:\n",
    "#             df = df[~(df[0].astype(str).str.len().gt(30) | df[1].astype(str).str.len().gt(30))]\n",
    "#         else:\n",
    "#             df = df[~df[0].astype(str).str.len().gt(30)]\n",
    "#         df.replace('â€” %', 0, inplace = True)\n",
    "        df = df.append(pd.Series(), ignore_index = True)\n",
    "        df.to_csv(csv, mode='a', index=False, header=False)\n",
    "\n"
   ]
  },
  {
   "cell_type": "code",
   "execution_count": null,
   "id": "c6cf04d2",
   "metadata": {
    "scrolled": false
   },
   "outputs": [],
   "source": [
    "# v3\n",
    "\n",
    "for i in range(1, 154):\n",
    "    page = str(i)\n",
    "    tables = camelot.read_pdf(r\"C:\\Users\\winte\\Downloads\\2022 10q4.pdf\", flavor='stream', pages=page)\n",
    "    no_tables = tables.n\n",
    "    print('Page number:', i, ' Number of tables', no_tables)\n",
    "    for i in range(1, no_tables + 1):\n",
    "        df = tables[no_tables - 1].df\n",
    "        if len(df.columns) > 2:\n",
    "            df = df[~(df[0].astype(str).str.len().gt(30) | df[1].astype(str).str.len().gt(30)| df[2].astype(str).str.len().gt(30))]\n",
    "        if len(df.columns) > 1:\n",
    "            df = df[~(df[0].astype(str).str.len().gt(30) | df[1].astype(str).str.len().gt(30))]\n",
    "        else:\n",
    "            df = df[~df[0].astype(str).str.len().gt(30)]\n",
    "#         df.replace('â€” %', 0, inplace = True)\n",
    "        df.to_csv(csv, mode='a', index=False, header=False)\n",
    "\n"
   ]
  },
  {
   "cell_type": "code",
   "execution_count": null,
   "id": "50eff9d1",
   "metadata": {
    "scrolled": false
   },
   "outputs": [],
   "source": [
    "# v2\n",
    "\n",
    "for i in range(1, 35):\n",
    "    page = str(i)\n",
    "    tables = camelot.read_pdf(r\"C:\\Users\\winte\\Downloads\\2022 10q4.pdf\", flavor='stream', pages=page)\n",
    "    no_tables = tables.n\n",
    "    print('Page number:', i, ' Number of tables', no_tables)\n",
    "    for i in range(1, no_tables + 1):\n",
    "        df = tables[no_tables - 1].df\n",
    "        if len(df.columns) > 2:\n",
    "            df = df[~(df[0].astype(str).str.len().gt(30) | df[1].astype(str).str.len().gt(30)| df[2].astype(str).str.len().gt(30))]\n",
    "        if len(df.columns) > 1:\n",
    "            df = df[~(df[0].astype(str).str.len().gt(30) | df[1].astype(str).str.len().gt(30))]\n",
    "        else:\n",
    "            df = df[~df[0].astype(str).str.len().gt(30)]\n",
    "        df.replace('â€” %', 0)\n",
    "        df.to_csv(csv, mode='a', index=False, header=False)\n",
    "\n"
   ]
  },
  {
   "cell_type": "code",
   "execution_count": null,
   "id": "57bc463a",
   "metadata": {},
   "outputs": [],
   "source": [
    "# df = pd.read_csv(csv_file, on_bad_lines='skip')\n",
    "# df.replace(\"â€” %\", \"0\", inplace=True)\n",
    "# df.to_csv(csv_file, index=False)\n"
   ]
  },
  {
   "cell_type": "code",
   "execution_count": null,
   "id": "0d67859b",
   "metadata": {
    "scrolled": false
   },
   "outputs": [],
   "source": [
    "# v1\n",
    "\n",
    "for i in range(1,154):\n",
    "    page = str(i)\n",
    "    tables = camelot.read_pdf(r\"C:\\Users\\winte\\Downloads\\2022 10q4.pdf\", flavor = 'stream', pages=page)\n",
    "    no_tables = tables.n\n",
    "    print('Page number:', i, ' Number of tables', no_tables)\n",
    "    for i in range (1,no_tables+1):\n",
    "#         print(tables[no_tables-1])\n",
    "        df = tables[no_tables-1].df\n",
    "        df = df.append(pd.Series(), ignore_index = True)\n",
    "#         with open(csv, 'a') as f:\n",
    "#             df.to_csv(f, index=False, header=False)\n",
    "        df.to_csv(csv, mode='a', index=False, header=False)\n"
   ]
  },
  {
   "cell_type": "code",
   "execution_count": null,
   "id": "e4a86b91",
   "metadata": {},
   "outputs": [],
   "source": [
    "tables = camelot.read_pdf(r\"C:\\Users\\winte\\Downloads\\2022 10q4.pdf\", flavor = 'stream', pages='70')"
   ]
  },
  {
   "cell_type": "code",
   "execution_count": null,
   "id": "0744a6f3",
   "metadata": {},
   "outputs": [],
   "source": [
    "tables.n\n"
   ]
  },
  {
   "cell_type": "code",
   "execution_count": null,
   "id": "04131a02",
   "metadata": {},
   "outputs": [],
   "source": [
    "df = tables[0].df"
   ]
  },
  {
   "cell_type": "code",
   "execution_count": null,
   "id": "5bcd733f",
   "metadata": {},
   "outputs": [],
   "source": [
    "df.to_csv(r\"C:\\Users\\winte\\Downloads\\2022 10q4 p90.csv\",index=False)"
   ]
  },
  {
   "cell_type": "code",
   "execution_count": null,
   "id": "56c2649b",
   "metadata": {},
   "outputs": [],
   "source": [
    "df"
   ]
  },
  {
   "cell_type": "code",
   "execution_count": null,
   "id": "c4eeec68",
   "metadata": {},
   "outputs": [],
   "source": []
  },
  {
   "cell_type": "code",
   "execution_count": null,
   "id": "d1bb9cb3",
   "metadata": {},
   "outputs": [],
   "source": [
    "tables[1].df"
   ]
  },
  {
   "cell_type": "code",
   "execution_count": null,
   "id": "66ed16f4",
   "metadata": {},
   "outputs": [],
   "source": []
  },
  {
   "cell_type": "code",
   "execution_count": null,
   "id": "684f0e18",
   "metadata": {},
   "outputs": [],
   "source": [
    "pay = camelot.read_pdf(r\"C:\\Users\\winte\\Downloads\\Payslip.pdf\")\n"
   ]
  },
  {
   "cell_type": "code",
   "execution_count": null,
   "id": "dd2e747d",
   "metadata": {},
   "outputs": [],
   "source": [
    "pay\n"
   ]
  },
  {
   "cell_type": "code",
   "execution_count": null,
   "id": "faa54043",
   "metadata": {},
   "outputs": [],
   "source": [
    "pay.n\n"
   ]
  },
  {
   "cell_type": "code",
   "execution_count": null,
   "id": "87062fe8",
   "metadata": {},
   "outputs": [],
   "source": [
    "tables2 = camelot.read_pdf(r\"C:\\Users\\winte\\Downloads\\examplepdf.pdf\")"
   ]
  },
  {
   "cell_type": "code",
   "execution_count": null,
   "id": "821f6f03",
   "metadata": {},
   "outputs": [],
   "source": [
    "tables2"
   ]
  },
  {
   "cell_type": "code",
   "execution_count": null,
   "id": "c9c1bd48",
   "metadata": {},
   "outputs": [],
   "source": [
    "tables2.n\n"
   ]
  },
  {
   "cell_type": "code",
   "execution_count": null,
   "id": "75f228b5",
   "metadata": {},
   "outputs": [],
   "source": [
    "tables2[0]"
   ]
  },
  {
   "cell_type": "code",
   "execution_count": null,
   "id": "034f4f89",
   "metadata": {},
   "outputs": [],
   "source": [
    "tables2[0].parsing_report"
   ]
  },
  {
   "cell_type": "code",
   "execution_count": null,
   "id": "3a12e746",
   "metadata": {},
   "outputs": [],
   "source": [
    "tables2[0].df"
   ]
  },
  {
   "cell_type": "code",
   "execution_count": null,
   "id": "619f372e",
   "metadata": {},
   "outputs": [],
   "source": [
    "tables2[2].df\n"
   ]
  },
  {
   "cell_type": "code",
   "execution_count": null,
   "id": "be3233a8",
   "metadata": {},
   "outputs": [],
   "source": [
    "tables2[1].df\n"
   ]
  },
  {
   "cell_type": "code",
   "execution_count": null,
   "id": "6d0456b9",
   "metadata": {},
   "outputs": [],
   "source": []
  },
  {
   "cell_type": "code",
   "execution_count": null,
   "id": "42c8c001",
   "metadata": {},
   "outputs": [],
   "source": []
  }
 ],
 "metadata": {
  "kernelspec": {
   "display_name": "Python 3 (ipykernel)",
   "language": "python",
   "name": "python3"
  },
  "language_info": {
   "codemirror_mode": {
    "name": "ipython",
    "version": 3
   },
   "file_extension": ".py",
   "mimetype": "text/x-python",
   "name": "python",
   "nbconvert_exporter": "python",
   "pygments_lexer": "ipython3",
   "version": "3.9.13"
  }
 },
 "nbformat": 4,
 "nbformat_minor": 5
}
