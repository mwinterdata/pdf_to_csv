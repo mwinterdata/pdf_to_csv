{
 "cells": [
  {
   "cell_type": "code",
   "execution_count": 1,
   "id": "28c461c9",
   "metadata": {},
   "outputs": [],
   "source": [
    "#do this once\n",
    "#pip install tabula"
   ]
  },
  {
   "cell_type": "code",
   "execution_count": 1,
   "id": "002bb11b",
   "metadata": {},
   "outputs": [],
   "source": [
    "import tabula as tb"
   ]
  },
  {
   "cell_type": "code",
   "execution_count": 4,
   "id": "c3f83041",
   "metadata": {},
   "outputs": [],
   "source": [
    "#copy file source location into pdf, desired location into csv\n",
    "#may have to have csv copied into local drive due to permission issues\n",
    "\n",
    "pdf = r\"C:\\Users\\winte\\Downloads\\2023 10q3.pdf\"\n",
    "csv = r\"C:\\Users\\winte\\Downloads\\2023 10q3.csv\""
   ]
  },
  {
   "cell_type": "code",
   "execution_count": 5,
   "id": "767959b4",
   "metadata": {},
   "outputs": [],
   "source": [
    "tb.convert_into(input_path = pdf, output_path = csv, output_format=\"csv\", pages=\"all\", stream =True)"
   ]
  },
  {
   "cell_type": "code",
   "execution_count": null,
   "id": "a913cfb0",
   "metadata": {},
   "outputs": [],
   "source": []
  }
 ],
 "metadata": {
  "kernelspec": {
   "display_name": "Python 3 (ipykernel)",
   "language": "python",
   "name": "python3"
  },
  "language_info": {
   "codemirror_mode": {
    "name": "ipython",
    "version": 3
   },
   "file_extension": ".py",
   "mimetype": "text/x-python",
   "name": "python",
   "nbconvert_exporter": "python",
   "pygments_lexer": "ipython3",
   "version": "3.9.13"
  }
 },
 "nbformat": 4,
 "nbformat_minor": 5
}
