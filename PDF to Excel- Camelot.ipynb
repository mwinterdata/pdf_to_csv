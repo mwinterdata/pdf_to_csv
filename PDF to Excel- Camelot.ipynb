{
 "cells": [
  {
   "cell_type": "code",
   "execution_count": null,
   "id": "0088d2ce",
   "metadata": {},
   "outputs": [],
   "source": [
    "#do this once for those packages not already installed\n",
    "\n",
    "#pip install tabula\n",
    "#pip install numpy\n",
    "#pip install string\n",
    "#pip install os\n",
    "#follow camelot install guide at https://camelot-py.readthedocs.io/en/master/user/install.html#install"
   ]
  },
  {
   "cell_type": "code",
   "execution_count": null,
   "id": "1019c0dc",
   "metadata": {},
   "outputs": [],
   "source": [
    "import camelot\n",
    "import pandas as pd\n",
    "import numpy as np\n",
    "import string\n",
    "#only need to import os if using monkey patch to to_csv method below\n",
    "import os"
   ]
  },
  {
   "cell_type": "code",
   "execution_count": null,
   "id": "2ae63472",
   "metadata": {},
   "outputs": [],
   "source": [
    "# copy in input and output locations, output csv must be on local machine currently due to permission errors,\n",
    "# make sure the r remains before address\n",
    "\n",
    "input_pdf = r\"C:\\Users\\winte\\Tiger Hill Advisors Limited\\TH Research - Documents\\Axos\\Company Filings\\2023 10q3.pdf\"\n",
    "\n",
    "csv = r\"C:\\Users\\winte\\Downloads\\axos_2023_10q3.csv\"\n",
    "\n",
    "# #this needs some working as getting permission errors writing directly into Tiger Hill folders\n",
    "# output_csv = input_pdf.replace(\".pdf\", \".csv\")\n",
    "# print(output_csv)"
   ]
  },
  {
   "cell_type": "code",
   "execution_count": null,
   "id": "9091debe",
   "metadata": {},
   "outputs": [],
   "source": [
    "# ### monkey patch to change to_csv method to encode UTF-8- failing\n",
    "\n",
    "# # define corrected method\n",
    "# def to_csv(self, path, **kwargs):\n",
    "#     \"\"\"Writes Table to a csv file.\n",
    "#     For kwargs, check :meth:`pandas.DataFrame.to_csv`.\n",
    "#     Parameters\n",
    "#     ----------\n",
    "#     path : str\n",
    "#         Output filepath.\n",
    "#     \"\"\"\n",
    "#     csv_string = self.df.to_csv(**kwargs)\n",
    "#     with open(path, \"w\", encoding=\"utf-8\") as f:\n",
    "#         f.write(csv_string)\n",
    "\n",
    "# # replace original method with monkey patch function\n",
    "# camelot.core.Table.to_csv=to_csv\n",
    "\n",
    "# def CustomScript(args):\n",
    "#     path_to_pdf = r\"C:\\Users\\winte\\Downloads\\2023 10q3.pdf\"\n",
    "#     folder_to_pdf = os.path.dirname(path_to_pdf)\n",
    "#     tables = camelot.read_pdf(os.path.normpath(path_to_pdf), flavor='stream', pages='1-end')\n",
    "#     tables.export(os.path.normpath(os.path.join(folder_to_pdf,\"temp\",\"foo.csv\")), f='csv')\n",
    "#     return CustomScriptReturn.Empty()"
   ]
  },
  {
   "cell_type": "code",
   "execution_count": null,
   "id": "884dedd7",
   "metadata": {
    "scrolled": true
   },
   "outputs": [],
   "source": [
    "# will result in 'IndexError: sequence index out of range' unless max_page_no is changed to correct value, but runs fine...\n",
    "# ... and exports to csv regardless will only error out after all pages uploaded \n",
    "max_page_no = 200\n",
    "\n",
    "for i in range(1,max_page_no):\n",
    "    page = str(i)\n",
    "#     # below line is attempt to encode input_pdf as UTF-8- failing\n",
    "    tables = camelot.read_pdf(input_pdf, flavor='stream', pages=page)\n",
    "#     tables = camelot.read_pdf(path_to_pdf, flavor='stream', pages=page)\n",
    "    \n",
    "#     # below line is attempt to encode input_pdf as UTF-8- failing\n",
    "#     tables = camelot.read_pdf(input_pdf, flavor='stream', pages=page, encoding='utf-8')\n",
    "\n",
    "    no_tables = tables.n\n",
    "    \n",
    "    # print below optional just shows camelot is doing what it is supposed to\n",
    "    print('Page number:', i, ' Number of tables:', no_tables)\n",
    "    \n",
    "    for j in range(1, no_tables + 1):\n",
    "        df = tables[j-1].df\n",
    "        \n",
    "#         # below if/else removes a large amount of excess text not in tables from pdf, can be hashed/unhashed and easily changed as required\n",
    "#         char_max = 30\n",
    "#         if len(df.columns) > 2:\n",
    "#             df = df[~(df[0].astype(str).str.len().gt(char_max) | df[1].astype(str).str.len().gt(char_max)| df[2].astype(str).str.len().gt(char_max))]\n",
    "#         if len(df.columns) > 1:\n",
    "#             df = df[~(df[0].astype(str).str.len().gt(char_max) | df[1].astype(str).str.len().gt(char_max))]\n",
    "#         else:\n",
    "#             df = df[~df[0].astype(str).str.len().gt(char_max)]\n",
    "\n",
    "        # Create an empty row DataFrame with the same columns as df\n",
    "        empty_row = pd.DataFrame([[''] * len(df.columns)], columns=df.columns)\n",
    "        # Concatenate df and empty_rows (as many as desired have put 3 as standard)\n",
    "        df = pd.concat([df, empty_row, empty_row, empty_row], ignore_index=True)\n",
    "        \n",
    "#         df.replace(to_replace = r'â€”', value=0, inplace = False)- failing due to UTF-8 encoding\n",
    "        df.to_csv(csv, mode='a', index=False, header=False)\n",
    "\n",
    "### results may include error message shown below, this is caused by large blocks of text with words at a distance apart that\n",
    "### camelot is not sure how to treat them, as long as it keeps running after (it should), this is completely fine\n",
    "    # C:\\Users\\winte\\anaconda3\\lib\\site-packages\\camelot\\parsers\\stream.py:365: UserWarning: No tables found in table area 1\n",
    "    # warnings.warn(f\"No tables found in table area {table_idx + 1}\")"
   ]
  },
  {
   "cell_type": "code",
   "execution_count": null,
   "id": "549773c6",
   "metadata": {},
   "outputs": [],
   "source": []
  }
 ],
 "metadata": {
  "kernelspec": {
   "display_name": "Python 3 (ipykernel)",
   "language": "python",
   "name": "python3"
  },
  "language_info": {
   "codemirror_mode": {
    "name": "ipython",
    "version": 3
   },
   "file_extension": ".py",
   "mimetype": "text/x-python",
   "name": "python",
   "nbconvert_exporter": "python",
   "pygments_lexer": "ipython3",
   "version": "3.9.13"
  }
 },
 "nbformat": 4,
 "nbformat_minor": 5
}
